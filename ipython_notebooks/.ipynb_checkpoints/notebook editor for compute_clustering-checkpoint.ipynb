{
  "metadata": {
    "kernelspec": {
      "name": "py-dku-venv-text_embedding",
      "display_name": "Python (env text_embedding)",
      "language": "python"
    },
    "hide_input": false,
    "language_info": {
      "name": "python",
      "version": "3.9.18",
      "mimetype": "text/x-python",
      "codemirror_mode": {
        "name": "ipython",
        "version": 3
      },
      "pygments_lexer": "ipython3",
      "nbconvert_exporter": "python",
      "file_extension": ".py"
    },
    "creator": "cristian.mankoc@symanto.com",
    "associatedRecipe": "compute_clustering",
    "tags": [
      "recipe-editor"
    ],
    "customFields": {},
    "createdOn": 1715612360122,
    "modifiedBy": "cristian.mankoc@symanto.com"
  },
  "nbformat": 4,
  "nbformat_minor": 1,
  "cells": [
    {
      "execution_count": 0,
      "cell_type": "code",
      "metadata": {},
      "source": [
        "# -*- coding: utf-8 -*-\nimport dataiku\nimport pandas as pd, numpy as np\nfrom dataiku import pandasutils as pdu\nfrom sklearn.cluster import KMeans, kmeans_plusplus\nimport json"
      ],
      "outputs": []
    },
    {
      "execution_count": 0,
      "cell_type": "code",
      "metadata": {},
      "source": [
        "# Read recipe inputs\nembeddings \u003d dataiku.Dataset(\"embeddings\")\ndf \u003d embeddings.get_dataframe()"
      ],
      "outputs": []
    },
    {
      "execution_count": 0,
      "cell_type": "code",
      "metadata": {},
      "source": [
        "client\u003ddataiku.api_client()\nproject\u003dclient.get_project(dataiku.default_project_key())\nvariables\u003dproject.get_variables()\nvar\u003dvariables[\"standard\"]"
      ],
      "outputs": []
    },
    {
      "execution_count": 0,
      "cell_type": "code",
      "metadata": {},
      "source": [
        "embeddings2\u003d[json.loads(x) for x in df[\"embeddings\"].to_list()]\nembeddings\u003dnp.array(embeddings2)\nembeddings.shape"
      ],
      "outputs": []
    },
    {
      "execution_count": 0,
      "cell_type": "code",
      "metadata": {},
      "source": [
        ""
      ],
      "outputs": []
    },
    {
      "execution_count": 0,
      "cell_type": "code",
      "metadata": {},
      "source": [
        ""
      ],
      "outputs": []
    },
    {
      "execution_count": 0,
      "cell_type": "code",
      "metadata": {},
      "source": [
        "# Compute recipe outputs from inputs\n# TODO: Replace this part by your actual code that computes the output, as a Pandas dataframe\n# NB: DSS also supports other kinds of APIs for reading and writing data. Please see doc.\n\nclustering_df \u003d embeddings_df # For this sample code, simply copy input to output\n\n\n# Write recipe outputs\nclustering \u003d dataiku.Dataset(\"clustering\")\nclustering.write_with_schema(clustering_df)"
      ],
      "outputs": []
    }
  ]
}