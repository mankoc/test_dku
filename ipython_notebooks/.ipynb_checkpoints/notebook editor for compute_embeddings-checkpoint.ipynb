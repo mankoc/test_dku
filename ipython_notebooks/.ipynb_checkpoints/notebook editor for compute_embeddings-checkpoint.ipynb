{
  "nbformat": 4,
  "nbformat_minor": 0,
  "metadata": {
    "kernelspec": {
      "display_name": "Python in CPU-M-1-cpu-4Gb-Ram (builtin env)",
      "language": "python",
      "name": "py-dku-containerized-venv--cpu-m-1-cpu-4gb-ram"
    },
    "associatedRecipe": "compute_embeddings",
    "creator": "cristian.mankoc@symanto.com",
    "createdOn": 1715607653553,
    "tags": [
      "recipe-editor"
    ],
    "customFields": {}
  },
  "cells": [
    {
      "cell_type": "code",
      "metadata": {},
      "outputs": [],
      "execution_count": 0,
      "source": [
        "# -*- coding: utf-8 -*-\n",
        "import dataiku\n",
        "import pandas as pd, numpy as np\n",
        "from dataiku import pandasutils as pdu\n",
        "\n",
        "# Read recipe inputs\n",
        "input_dataset_prepared \u003d dataiku.Dataset(\"input_dataset_prepared\")\n",
        "input_dataset_prepared_df \u003d input_dataset_prepared.get_dataframe()\n",
        "\n",
        "\n",
        "# Compute recipe outputs from inputs\n",
        "# TODO: Replace this part by your actual code that computes the output, as a Pandas dataframe\n",
        "# NB: DSS also supports other kinds of APIs for reading and writing data. Please see doc.\n",
        "\n",
        "embeddings_df \u003d input_dataset_prepared_df # For this sample code, simply copy input to output\n",
        "\n",
        "\n",
        "# Write recipe outputs\n",
        "embeddings \u003d dataiku.Dataset(\"embeddings\")\n",
        "embeddings.write_with_schema(embeddings_df)\n",
        "import os\n",
        "from sentence_transformers import SentenceTransformer\n",
        "\n",
        "# Load pre-trained model\n",
        "sentence_transformer_home \u003d os.getenv(\u0027SENTENCE_TRANSFORMERS_HOME\u0027)\n",
        "model_path \u003d os.path.join(sentence_transformer_home, \u0027DataikuNLP_average_word_embeddings_glove.6B.300d\u0027)\n",
        "model \u003d SentenceTransformer(model_path)\n",
        "\n",
        "sentences \u003d [\"I really like Ice cream\", \"Brussels sprouts are okay too\"]\n",
        "\n",
        "# get sentences embeddings\n",
        "embeddings \u003d model.encode(sentences)\n",
        "embeddings.shape"
      ]
    }
  ]
}