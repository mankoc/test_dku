{
  "metadata": {
    "kernelspec": {
      "name": "py-dku-venv-text_embedding",
      "display_name": "Python (env text_embedding)",
      "language": "python"
    },
    "hide_input": false,
    "language_info": {
      "name": "python",
      "version": "3.9.18",
      "mimetype": "text/x-python",
      "codemirror_mode": {
        "name": "ipython",
        "version": 3
      },
      "pygments_lexer": "ipython3",
      "nbconvert_exporter": "python",
      "file_extension": ".py"
    },
    "creator": "cristian.mankoc@symanto.com",
    "creationTag": {
      "versionNumber": 0,
      "lastModifiedBy": {
        "login": "cristian.mankoc@symanto.com"
      },
      "lastModifiedOn": 1715612360122,
      "extendedProperties": {}
    },
    "associatedRecipe": "compute_clustering",
    "tags": [
      "recipe-editor"
    ],
    "customFields": {},
    "createdOn": 1715612360122,
    "dkuGit": {
      "lastInteraction": 0
    },
    "modifiedBy": "cristian.mankoc@symanto.com"
  },
  "nbformat": 4,
  "nbformat_minor": 1,
  "cells": [
    {
      "execution_count": 0,
      "cell_type": "code",
      "metadata": {},
      "source": [
        "# -*- coding: utf-8 -*-\nimport dataiku\nimport pandas as pd, numpy as np\nfrom dataiku import pandasutils as pdu\nfrom sklearn.cluster import KMeans, kmeans_plusplus\nimport json"
      ],
      "outputs": []
    },
    {
      "execution_count": 0,
      "cell_type": "code",
      "metadata": {},
      "source": [
        "# Read recipe inputs\nembeddings \u003d dataiku.Dataset(\"embeddings\")\ndf \u003d embeddings.get_dataframe()"
      ],
      "outputs": []
    },
    {
      "execution_count": 0,
      "cell_type": "code",
      "metadata": {},
      "source": [
        "client\u003ddataiku.api_client()\nproject\u003dclient.get_project(dataiku.default_project_key())\nvariables\u003dproject.get_variables()\nvar\u003dvariables[\"standard\"]\nvar"
      ],
      "outputs": []
    },
    {
      "execution_count": 0,
      "cell_type": "code",
      "metadata": {},
      "source": [
        "embeddings2\u003d[json.loads(x) for x in df[\"embeddings\"].to_list()]\nembeddings\u003dnp.array(embeddings2)\nembeddings.shape"
      ],
      "outputs": []
    },
    {
      "execution_count": 0,
      "cell_type": "code",
      "metadata": {},
      "source": [
        "clustering \u003d KMeans(n_clusters\u003dvar[\"n_clusters\"],n_init\u003d\u0027auto\u0027,init\u003d\u0027k-means++\u0027).fit_predict(embeddings)\nclustering"
      ],
      "outputs": []
    },
    {
      "execution_count": 0,
      "cell_type": "code",
      "metadata": {},
      "source": [
        "to_review \u003d [False] * len(clustering)\n\nfor cl in np.unique(clustering):\n    # print(len(np.where(clustering \u003d\u003d cl)[0]))\n    cluster_indexes \u003d np.where(clustering \u003d\u003d cl)[0]\n    nelements \u003d max(\n        int(len(cluster_indexes) * var[\"select_ratio\"]), var[\"min_instances\"]\n    )\n    if nelements \u003c var[\"min_instances\"]:\n        nelements \u003d min(var[\"min_instances\"], len(cluster_indexes))\n\n    centers_init, indices \u003d kmeans_plusplus(\n        embeddings[cluster_indexes], n_clusters\u003dnelements, random_state\u003d0\n    )\n    # selected \u003d np.random.choice(cluster_indexes, size\u003dnelements)\n    for ind in indices:\n        to_review[ind] \u003d True\n    # to_review[indices]\u003dTru"
      ],
      "outputs": []
    },
    {
      "execution_count": 0,
      "cell_type": "code",
      "metadata": {},
      "source": [
        "df_out\u003dpd.DataFrame({var[\"id_column\"]:df[\"id\"],var[\"text_column\"]:df[\"text\"],\"cluster\":clustering,\"to_annotate\":to_review})\ndf_out"
      ],
      "outputs": []
    },
    {
      "execution_count": 0,
      "cell_type": "code",
      "metadata": {},
      "source": [
        "\n# Write recipe outputs\nclustering \u003d dataiku.Dataset(\"clustering\")\nclustering.write_with_schema(df_out)"
      ],
      "outputs": []
    },
    {
      "execution_count": 0,
      "cell_type": "code",
      "metadata": {},
      "source": [
        ""
      ],
      "outputs": []
    }
  ]
}