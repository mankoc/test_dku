{
  "nbformat": 4,
  "nbformat_minor": 0,
  "metadata": {
    "kernelspec": {
      "display_name": "Python in CPU-M-1-cpu-4Gb-Ram (builtin env)",
      "language": "python",
      "name": "py-dku-containerized-venv--cpu-m-1-cpu-4gb-ram"
    },
    "associatedRecipe": "compute_clustering",
    "creator": "cristian.mankoc@symanto.com",
    "createdOn": 1715612360122,
    "tags": [
      "recipe-editor"
    ],
    "customFields": {}
  },
  "cells": [
    {
      "cell_type": "code",
      "metadata": {},
      "outputs": [],
      "execution_count": 0,
      "source": [
        "# -*- coding: utf-8 -*-\n",
        "import dataiku\n",
        "import pandas as pd, numpy as np\n",
        "from dataiku import pandasutils as pdu\n",
        "from sklearn.cluster import DBSCAN, KMeans, AffinityPropagation, kmeans_plusplus\n",
        "\n",
        "# Read recipe inputs\n",
        "embeddings \u003d dataiku.Dataset(\"embeddings\")\n",
        "embeddings_df \u003d embeddings.get_dataframe()\n",
        "\n",
        "\n",
        "# Compute recipe outputs from inputs\n",
        "# TODO: Replace this part by your actual code that computes the output, as a Pandas dataframe\n",
        "# NB: DSS also supports other kinds of APIs for reading and writing data. Please see doc.\n",
        "\n",
        "clustering_df \u003d embeddings_df # For this sample code, simply copy input to output\n",
        "\n",
        "\n",
        "# Write recipe outputs\n",
        "clustering \u003d dataiku.Dataset(\"clustering\")\n",
        "clustering.write_with_schema(clustering_df)"
      ]
    }
  ]
}