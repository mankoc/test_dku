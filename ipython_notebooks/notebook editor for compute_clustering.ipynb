{
  "nbformat": 4,
  "nbformat_minor": 0,
  "metadata": {
    "kernelspec": {
      "display_name": "Python in CPU-XL-2-cpu-16Gb-Ram (env text_embedding)",
      "language": "python",
      "name": "py-dku-containerized-venv-text_embedding-cpu-xl-2-cpu-16gb-ram"
    },
    "associatedRecipe": "compute_clustering",
    "dkuGit": {
      "lastInteraction": 0
    },
    "creationTag": {
      "versionNumber": 0,
      "lastModifiedBy": {
        "login": "cristian.mankoc@symanto.com"
      },
      "lastModifiedOn": 1715612360122,
      "extendedProperties": {}
    },
    "creator": "cristian.mankoc@symanto.com",
    "createdOn": 1715612360122,
    "tags": [
      "recipe-editor"
    ],
    "customFields": {}
  },
  "cells": [
    {
      "cell_type": "code",
      "metadata": {},
      "outputs": [],
      "execution_count": 0,
      "source": [
        "# -*- coding: utf-8 -*-\n",
        "import dataiku\n",
        "import pandas as pd, numpy as np\n",
        "from dataiku import pandasutils as pdu\n",
        "from sklearn.cluster import KMeans, kmeans_plusplus\n",
        "import json"
      ]
    },
    {
      "cell_type": "code",
      "metadata": {},
      "outputs": [],
      "execution_count": 0,
      "source": [
        "# Read recipe inputs\n",
        "embeddings \u003d dataiku.Dataset(\"embeddings\")\n",
        "df \u003d embeddings.get_dataframe()"
      ]
    },
    {
      "cell_type": "code",
      "metadata": {},
      "outputs": [],
      "execution_count": 0,
      "source": [
        "client\u003ddataiku.api_client()\n",
        "project\u003dclient.get_project(dataiku.default_project_key())\n",
        "variables\u003dproject.get_variables()\n",
        "var\u003dvariables[\"standard\"]\n",
        "var"
      ]
    },
    {
      "cell_type": "code",
      "metadata": {},
      "outputs": [],
      "execution_count": 0,
      "source": [
        "embeddings2\u003d[json.loads(x) for x in df[\"embeddings\"].to_list()]\n",
        "embeddings\u003dnp.array(embeddings2)\n",
        "embeddings.shape"
      ]
    },
    {
      "cell_type": "code",
      "metadata": {},
      "outputs": [],
      "execution_count": 0,
      "source": [
        "clustering \u003d KMeans(n_clusters\u003dvar[\"n_clusters\"],n_init\u003d\u0027auto\u0027,init\u003d\u0027k-means++\u0027).fit_predict(embeddings)\n",
        "clustering"
      ]
    },
    {
      "cell_type": "code",
      "metadata": {},
      "outputs": [],
      "execution_count": 0,
      "source": [
        "to_review \u003d [False] * len(clustering)\n",
        "\n",
        "for cl in np.unique(clustering):\n",
        "    # print(len(np.where(clustering \u003d\u003d cl)[0]))\n",
        "    cluster_indexes \u003d np.where(clustering \u003d\u003d cl)[0]\n",
        "    nelements \u003d max(\n",
        "        int(len(cluster_indexes) * var[\"select_ratio\"]), var[\"min_instances\"]\n",
        "    )\n",
        "    if nelements \u003c var[\"min_instances\"]:\n",
        "        nelements \u003d min(var[\"min_instances\"], len(cluster_indexes))\n",
        "\n",
        "    centers_init, indices \u003d kmeans_plusplus(\n",
        "        embeddings[cluster_indexes], n_clusters\u003dnelements, random_state\u003d0\n",
        "    )\n",
        "    # selected \u003d np.random.choice(cluster_indexes, size\u003dnelements)\n",
        "    for ind in indices:\n",
        "        to_review[ind] \u003d True\n",
        "    # to_review[indices]\u003dTru"
      ]
    },
    {
      "cell_type": "code",
      "metadata": {},
      "outputs": [],
      "execution_count": 0,
      "source": [
        "df_out\u003dpd.DataFrame(var[\"id_column\"])\n",
        "df_out"
      ]
    },
    {
      "cell_type": "code",
      "metadata": {},
      "outputs": [],
      "execution_count": 0,
      "source": [
        "# Compute recipe outputs from inputs\n",
        "# TODO: Replace this part by your actual code that computes the output, as a Pandas dataframe\n",
        "# NB: DSS also supports other kinds of APIs for reading and writing data. Please see doc.\n",
        "\n",
        "clustering_df \u003d embeddings_df # For this sample code, simply copy input to output\n",
        "\n",
        "\n",
        "# Write recipe outputs\n",
        "clustering \u003d dataiku.Dataset(\"clustering\")\n",
        "clustering.write_with_schema(clustering_df)"
      ]
    }
  ]
}