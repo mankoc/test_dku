{
  "nbformat": 4,
  "nbformat_minor": 0,
  "metadata": {
    "kernelspec": {
      "display_name": "Python (env text_embedding)",
      "language": "python",
      "name": "py-dku-venv-text_embedding"
    },
    "associatedRecipe": "compute_embeddings",
    "dkuGit": {
      "lastInteraction": 0
    },
    "creationTag": {
      "versionNumber": 0,
      "lastModifiedBy": {
        "login": "cristian.mankoc@symanto.com"
      },
      "lastModifiedOn": 1715607653553,
      "extendedProperties": {}
    },
    "creator": "cristian.mankoc@symanto.com",
    "createdOn": 1715607653553,
    "tags": [
      "recipe-editor"
    ],
    "customFields": {}
  },
  "cells": [
    {
      "cell_type": "code",
      "metadata": {},
      "outputs": [],
      "execution_count": 0,
      "source": [
        "# -*- coding: utf-8 -*-\n",
        "import dataiku\n",
        "import pandas as pd, numpy as np\n",
        "from dataiku import pandasutils as pdu\n",
        "import os\n",
        "from sentence_transformers import SentenceTransformer"
      ]
    },
    {
      "cell_type": "code",
      "metadata": {},
      "outputs": [],
      "execution_count": 0,
      "source": [
        "# Read recipe inputs\n",
        "input_dataset_prepared \u003d dataiku.Dataset(\"input_dataset_prepared\")\n",
        "df \u003d input_dataset_prepared.get_dataframe()"
      ]
    },
    {
      "cell_type": "code",
      "metadata": {},
      "outputs": [],
      "execution_count": 0,
      "source": [
        "client\u003ddataiku.api_client()\n",
        "project\u003dclient.get_project(dataiku.default_project_key())\n",
        "variables\u003dproject.get_variables()\n",
        "vars\u003dvariables[\"standard\"]\n",
        "vars"
      ]
    },
    {
      "cell_type": "code",
      "metadata": {},
      "outputs": [],
      "execution_count": 0,
      "source": [
        "# Load pre-trained model\n",
        "sentence_transformer_home \u003d os.getenv(\u0027SENTENCE_TRANSFORMERS_HOME\u0027)\n",
        "model_path \u003d os.path.join(sentence_transformer_home, vars[\"embedding_model\"])\n",
        "model \u003d SentenceTransformer(model_path)"
      ]
    },
    {
      "cell_type": "code",
      "metadata": {},
      "outputs": [],
      "execution_count": 0,
      "source": [
        "sentences\u003ddf[\"text\"].to_list()"
      ]
    },
    {
      "cell_type": "code",
      "metadata": {},
      "outputs": [],
      "execution_count": 0,
      "source": [
        "# get sentences embeddings\n",
        "embeddings \u003d model.encode(sentences)\n",
        "embeddings.shape"
      ]
    },
    {
      "cell_type": "code",
      "metadata": {},
      "outputs": [],
      "execution_count": 0,
      "source": [
        "# Write recipe outputs\n",
        "embeddings \u003d dataiku.Dataset(\"embeddings\")\n",
        "embeddings.write_with_schema(embeddings_df)"
      ]
    }
  ]
}