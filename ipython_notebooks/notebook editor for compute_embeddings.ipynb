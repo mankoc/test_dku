{
  "metadata": {
    "kernelspec": {
      "name": "py-dku-venv-text_embedding",
      "display_name": "Python (env text_embedding)",
      "language": "python"
    },
    "hide_input": false,
    "language_info": {
      "name": "python",
      "version": "3.9.18",
      "mimetype": "text/x-python",
      "codemirror_mode": {
        "name": "ipython",
        "version": 3
      },
      "pygments_lexer": "ipython3",
      "nbconvert_exporter": "python",
      "file_extension": ".py"
    },
    "creator": "cristian.mankoc@symanto.com",
    "associatedRecipe": "compute_embeddings",
    "tags": [
      "recipe-editor"
    ],
    "customFields": {},
    "createdOn": 1715607653553,
    "modifiedBy": "cristian.mankoc@symanto.com"
  },
  "nbformat": 4,
  "nbformat_minor": 1,
  "cells": [
    {
      "execution_count": 0,
      "cell_type": "code",
      "metadata": {},
      "source": [
        "# -*- coding: utf-8 -*-\nimport dataiku\nimport pandas as pd, numpy as np\nfrom dataiku import pandasutils as pdu\nimport os\nfrom sentence_transformers import SentenceTransformer"
      ],
      "outputs": []
    },
    {
      "execution_count": 0,
      "cell_type": "code",
      "metadata": {},
      "source": [
        "# Read recipe inputs\ninput_dataset_prepared \u003d dataiku.Dataset(\"input_dataset_prepared\")\ndf \u003d input_dataset_prepared.get_dataframe()"
      ],
      "outputs": []
    },
    {
      "execution_count": 0,
      "cell_type": "code",
      "metadata": {},
      "source": [
        "client\u003ddataiku.api_client()\nproject\u003dclient.get_project(dataiku.default_project_key())\nvariables\u003dproject.get_variables()\nvars\u003dvariables[\"standard\"]\nvars"
      ],
      "outputs": []
    },
    {
      "execution_count": 0,
      "cell_type": "code",
      "metadata": {},
      "source": [
        "df"
      ],
      "outputs": []
    },
    {
      "execution_count": 0,
      "cell_type": "code",
      "metadata": {},
      "source": [
        "# Compute recipe outputs from inputs\n# TODO: Replace this part by your actual code that computes the output, as a Pandas dataframe\n# NB: DSS also supports other kinds of APIs for reading and writing data. Please see doc.\n\nembeddings_df \u003d input_dataset_prepared_df # For this sample code, simply copy input to output\n\n\n# Write recipe outputs\nembeddings \u003d dataiku.Dataset(\"embeddings\")\nembeddings.write_with_schema(embeddings_df)\n\n\n# Load pre-trained model\nsentence_transformer_home \u003d os.getenv(\u0027SENTENCE_TRANSFORMERS_HOME\u0027)\nmodel_path \u003d os.path.join(sentence_transformer_home, \u0027DataikuNLP_average_word_embeddings_glove.6B.300d\u0027)\nmodel \u003d SentenceTransformer(model_path)\n\nsentences \u003d [\"I really like Ice cream\", \"Brussels sprouts are okay too\"]\n\n# get sentences embeddings\nembeddings \u003d model.encode(sentences)\nembeddings.shape"
      ],
      "outputs": []
    }
  ]
}